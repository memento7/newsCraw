{
 "cells": [
  {
   "cell_type": "code",
   "execution_count": 1,
   "metadata": {
    "collapsed": true,
    "deletable": true,
    "editable": true
   },
   "outputs": [],
   "source": [
    "from __future__ import absolute_import\n",
    "from __future__ import print_function\n",
    "from __future__ import division"
   ]
  },
  {
   "cell_type": "code",
   "execution_count": 2,
   "metadata": {
    "collapsed": false,
    "deletable": true,
    "editable": true
   },
   "outputs": [],
   "source": [
    "import numpy as np\n",
    "import pandas as pd\n",
    "import matplotlib.pyplot as plt\n",
    "import json\n",
    "import re\n",
    "import pickle"
   ]
  },
  {
   "cell_type": "code",
   "execution_count": null,
   "metadata": {
    "collapsed": false,
    "deletable": true,
    "editable": true
   },
   "outputs": [],
   "source": [
    "frame = pd.read_csv('../data/newsTitle.csv')"
   ]
  },
  {
   "cell_type": "code",
   "execution_count": 3,
   "metadata": {
    "collapsed": true,
    "deletable": true,
    "editable": true
   },
   "outputs": [],
   "source": [
    "frame = pd.read_csv('../data/newsContents.csv')"
   ]
  },
  {
   "cell_type": "markdown",
   "metadata": {
    "deletable": true,
    "editable": true
   },
   "source": [
    "## save pickle "
   ]
  },
  {
   "cell_type": "code",
   "execution_count": null,
   "metadata": {
    "collapsed": true,
    "deletable": true,
    "editable": true
   },
   "outputs": [],
   "source": [
    "f = open('../data/newsTitle.pick', 'wb')\n",
    "pickle.dump(frame, f)\n",
    "f.close()"
   ]
  },
  {
   "cell_type": "markdown",
   "metadata": {
    "deletable": true,
    "editable": true
   },
   "source": [
    "## load pickle"
   ]
  },
  {
   "cell_type": "code",
   "execution_count": null,
   "metadata": {
    "collapsed": true,
    "deletable": true,
    "editable": true
   },
   "outputs": [],
   "source": [
    "f = open('../data/newsTitle.pick', 'rb')\n",
    "frame = pickle.load(f)\n",
    "f.close()"
   ]
  },
  {
   "cell_type": "code",
   "execution_count": null,
   "metadata": {
    "collapsed": false,
    "deletable": true,
    "editable": true
   },
   "outputs": [],
   "source": [
    "print (frame.shape)\n",
    "frame.head(3)"
   ]
  },
  {
   "cell_type": "markdown",
   "metadata": {
    "deletable": true,
    "editable": true
   },
   "source": [
    "## load actors"
   ]
  },
  {
   "cell_type": "code",
   "execution_count": null,
   "metadata": {
    "collapsed": true,
    "deletable": true,
    "editable": true
   },
   "outputs": [],
   "source": [
    "actors = pd.read_csv('../data/actor_type.csv')"
   ]
  },
  {
   "cell_type": "code",
   "execution_count": null,
   "metadata": {
    "collapsed": false,
    "deletable": true,
    "editable": true
   },
   "outputs": [],
   "source": [
    "print (actors.shape)\n",
    "actors.head(3)"
   ]
  },
  {
   "cell_type": "code",
   "execution_count": 4,
   "metadata": {
    "collapsed": true,
    "deletable": true,
    "editable": true
   },
   "outputs": [],
   "source": [
    "def get_article(number):\n",
    "    return frame.iloc[number].values"
   ]
  },
  {
   "cell_type": "code",
   "execution_count": 5,
   "metadata": {
    "collapsed": true,
    "deletable": true,
    "editable": true
   },
   "outputs": [],
   "source": [
    "def get_articles(actor):\n",
    "    return frame.loc[frame['actor'] == actor]"
   ]
  },
  {
   "cell_type": "code",
   "execution_count": 6,
   "metadata": {
    "collapsed": false,
    "deletable": true,
    "editable": true
   },
   "outputs": [],
   "source": [
    "def get_around(content, actor, size=5):\n",
    "    sub = r'(\\w*)\\W*' * size + '(' + actor + ')' + '(\\w*)\\W*' * size\n",
    "    for words in re.findall(sub, content, re.I):\n",
    "        yield \" \".join([ word for word in words if word != \"\"])"
   ]
  },
  {
   "cell_type": "code",
   "execution_count": null,
   "metadata": {
    "collapsed": false,
    "deletable": true,
    "editable": true,
    "scrolled": true
   },
   "outputs": [
    {
     "name": "stdout",
     "output_type": "stream",
     "text": [
      "(52464, 3)\n"
     ]
    }
   ],
   "source": [
    "actor = r'김태희'\n",
    "articles = get_articles(actor)\n",
    "print (articles.shape)"
   ]
  },
  {
   "cell_type": "code",
   "execution_count": null,
   "metadata": {
    "collapsed": false
   },
   "outputs": [],
   "source": [
    "class cluster:\n",
    "    def __init__(self, actor, contents):\n",
    "        self.contents = contents\n",
    "        self.actor = actor\n",
    "        self.pwn = False\n",
    "    \n",
    "    def __iter__(self):\n",
    "        pass\n",
    "    \n",
    "    def __str__(self):\n",
    "        pass\n",
    "    \n",
    "    @Property\n",
    "    def sampleSize(self, input):\n",
    "        self.size = input\n",
    "    "
   ]
  },
  {
   "cell_type": "code",
   "execution_count": null,
   "metadata": {
    "collapsed": false,
    "deletable": true,
    "editable": true,
    "scrolled": false
   },
   "outputs": [
    {
     "name": "stdout",
     "output_type": "stream",
     "text": [
      "actor with 김태희\n",
      "30일까지 세종문화회관 전시장 이준경 서화전 김태희 칠기전 30일 5월 5일까지\n",
      "임수지양 21 그리고 외국어대 3년 김태희 양 21 등 3명이 최종\n",
      "원재훈 조은 오선흥 이윤학 이학성 김태희 등을 들고 있다 그러나\n",
      "밝혀졌다 이같은 사실은 한국생약학회 회장 김태희 주최로 9일 서울 신라호텔에서\n",
      "탁자 등 가구류에 이르기까지 인간문화재 김태희 씨의 나전칠기 명품 1백여점이 전시된다\n",
      "다음으로는 김수희의 애모 김건모의 핑계 김태희 의 소양강 처녀 피노키오의 사랑과\n",
      "쥐스킨트作 극단 반도 공동연출 남상백 김태희 등 출연 산울림 18일까지\n",
      "밝혀졌다 이같은 사실은 한국생약학회 회장 김태희 주최로 9일 서울 신라호텔에서\n",
      "탄생에 얽힌 사연과 노사연 김수희 김태희 등 대중 애창곡들의 꾸준한\n",
      "MBC뉴스 굿모닝 코리아 는 손석희 김태희 의 투톱시스템으로 진행되며 심야시간대를 주로\n",
      "강장하 김수자 박종욱 우상기 이창규 김태희 김행만 박용찬 배명희 이건양\n",
      "쥐스킨트作 극단 반도 공동연출 남상백 김태희 등 출연 연희단거리패 95년\n",
      "광주 비엔날레 의 공동진행자인 고창근 김태희 아나운서는 첫방송을 내보내면서 행사장의\n",
      "의 앵커로 진행을 맡았다 손석희 김태희 아나운서가 진행하던 이 프로그램은"
     ]
    }
   ],
   "source": [
    "count = 10000000\n",
    "print ('actor with ' + actor)\n",
    "for idx, content in articles.iterrows():\n",
    "    if content.content != content.content: continue\n",
    "    for words in get_around(content.content, actor): print (words)\n",
    "    if (idx > count): break"
   ]
  },
  {
   "cell_type": "markdown",
   "metadata": {
    "deletable": true,
    "editable": true
   },
   "source": [
    "## extract"
   ]
  },
  {
   "cell_type": "code",
   "execution_count": null,
   "metadata": {
    "collapsed": false,
    "deletable": true,
    "editable": true,
    "scrolled": true
   },
   "outputs": [],
   "source": [
    "frames = []\n",
    "for idx, actor in actors.iterrows():\n",
    "    actor, engage = actor.values[:2]\n",
    "    frames.append(get_articles(actor))\n",
    "    print (actor, engage)\n",
    "docs = pd.concat(frames)"
   ]
  },
  {
   "cell_type": "code",
   "execution_count": null,
   "metadata": {
    "collapsed": false,
    "deletable": true,
    "editable": true
   },
   "outputs": [],
   "source": [
    "print (docs.shape)\n",
    "docs.head(3)"
   ]
  },
  {
   "cell_type": "code",
   "execution_count": null,
   "metadata": {
    "collapsed": true,
    "deletable": true,
    "editable": true
   },
   "outputs": [],
   "source": [
    "docs.to_csv('../data/actor_href.csv')"
   ]
  },
  {
   "cell_type": "markdown",
   "metadata": {
    "deletable": true,
    "editable": true
   },
   "source": [
    "## Test"
   ]
  },
  {
   "cell_type": "code",
   "execution_count": null,
   "metadata": {
    "collapsed": false,
    "deletable": true,
    "editable": true,
    "scrolled": true
   },
   "outputs": [],
   "source": [
    "s = get_article(23381469)\n",
    "print (s)"
   ]
  },
  {
   "cell_type": "code",
   "execution_count": null,
   "metadata": {
    "collapsed": false,
    "deletable": true,
    "editable": true
   },
   "outputs": [],
   "source": [
    "p = get_articles('박원순')\n",
    "print (p.shape)\n",
    "p.head(3)"
   ]
  },
  {
   "cell_type": "code",
   "execution_count": null,
   "metadata": {
    "collapsed": false,
    "deletable": true,
    "editable": true
   },
   "outputs": [],
   "source": [
    "p.values[0]"
   ]
  },
  {
   "cell_type": "code",
   "execution_count": null,
   "metadata": {
    "collapsed": true,
    "deletable": true,
    "editable": true
   },
   "outputs": [],
   "source": []
  }
 ],
 "metadata": {
  "kernelspec": {
   "display_name": "Python 3",
   "language": "python",
   "name": "python3"
  },
  "language_info": {
   "codemirror_mode": {
    "name": "ipython",
    "version": 3
   },
   "file_extension": ".py",
   "mimetype": "text/x-python",
   "name": "python",
   "nbconvert_exporter": "python",
   "pygments_lexer": "ipython3",
   "version": "3.5.2"
  }
 },
 "nbformat": 4,
 "nbformat_minor": 2
}
