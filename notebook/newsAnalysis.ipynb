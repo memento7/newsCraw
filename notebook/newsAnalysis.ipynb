{
 "cells": [
  {
   "cell_type": "code",
   "execution_count": 1,
   "metadata": {
    "collapsed": true,
    "deletable": true,
    "editable": true
   },
   "outputs": [],
   "source": [
    "from __future__ import absolute_import\n",
    "from __future__ import print_function\n",
    "from __future__ import division"
   ]
  },
  {
   "cell_type": "code",
   "execution_count": 2,
   "metadata": {
    "collapsed": true,
    "deletable": true,
    "editable": true
   },
   "outputs": [],
   "source": [
    "import numpy as np\n",
    "import pandas as pd\n",
    "import tensorflow as tf\n",
    "import matplotlib.pyplot as plt\n",
    "import json\n",
    "import re\n",
    "import pickle"
   ]
  },
  {
   "cell_type": "code",
   "execution_count": 3,
   "metadata": {
    "collapsed": false,
    "deletable": true,
    "editable": true
   },
   "outputs": [],
   "source": [
    "frame = pd.read_csv('../data/newsTitle.csv')"
   ]
  },
  {
   "cell_type": "markdown",
   "metadata": {
    "deletable": true,
    "editable": true
   },
   "source": [
    "## save pickle "
   ]
  },
  {
   "cell_type": "code",
   "execution_count": 4,
   "metadata": {
    "collapsed": true,
    "deletable": true,
    "editable": true
   },
   "outputs": [],
   "source": [
    "f = open('../data/newsTitle.pick', 'wb')\n",
    "pickle.dump(frame, f)\n",
    "f.close()"
   ]
  },
  {
   "cell_type": "markdown",
   "metadata": {
    "deletable": true,
    "editable": true
   },
   "source": [
    "## load pickle"
   ]
  },
  {
   "cell_type": "code",
   "execution_count": null,
   "metadata": {
    "collapsed": true,
    "deletable": true,
    "editable": true
   },
   "outputs": [],
   "source": [
    "f = open('../data/newsTitle.pick', 'rb')\n",
    "frame = pickle.load(f)\n",
    "f.close()"
   ]
  },
  {
   "cell_type": "code",
   "execution_count": 5,
   "metadata": {
    "collapsed": false,
    "deletable": true,
    "editable": true
   },
   "outputs": [
    {
     "name": "stdout",
     "output_type": "stream",
     "text": [
      "(23881814, 6)\n"
     ]
    },
    {
     "data": {
      "text/html": [
       "<div>\n",
       "<table border=\"1\" class=\"dataframe\">\n",
       "  <thead>\n",
       "    <tr style=\"text-align: right;\">\n",
       "      <th></th>\n",
       "      <th>title</th>\n",
       "      <th>href_naver</th>\n",
       "      <th>href_origin</th>\n",
       "      <th>actor</th>\n",
       "      <th>time</th>\n",
       "      <th>press</th>\n",
       "    </tr>\n",
       "  </thead>\n",
       "  <tbody>\n",
       "    <tr>\n",
       "      <th>0</th>\n",
       "      <td>深層취재</td>\n",
       "      <td>http://news.naver.com/main/read.nhn?mode=LSD&amp;m...</td>\n",
       "      <td>http://news.naver.com/main/read.nhn?mode=LSD&amp;m...</td>\n",
       "      <td>BoA</td>\n",
       "      <td>1990.07.07</td>\n",
       "      <td>연합뉴스</td>\n",
       "    </tr>\n",
       "    <tr>\n",
       "      <th>1</th>\n",
       "      <td>걸프 장기전 경우 유가 2월에 40-50달러</td>\n",
       "      <td>http://news.naver.com/main/read.nhn?mode=LSD&amp;m...</td>\n",
       "      <td>http://news.naver.com/main/read.nhn?mode=LSD&amp;m...</td>\n",
       "      <td>BoA</td>\n",
       "      <td>1991.01.25</td>\n",
       "      <td>연합뉴스</td>\n",
       "    </tr>\n",
       "    <tr>\n",
       "      <th>2</th>\n",
       "      <td>스와프 자금 대출금리 속인 두은행 제재</td>\n",
       "      <td>http://news.naver.com/main/read.nhn?mode=LSD&amp;m...</td>\n",
       "      <td>http://news.naver.com/main/read.nhn?mode=LSD&amp;m...</td>\n",
       "      <td>BoA</td>\n",
       "      <td>1991.12.09</td>\n",
       "      <td>연합뉴스</td>\n",
       "    </tr>\n",
       "  </tbody>\n",
       "</table>\n",
       "</div>"
      ],
      "text/plain": [
       "                      title  \\\n",
       "0                      深層취재   \n",
       "1  걸프 장기전 경우 유가 2월에 40-50달러   \n",
       "2     스와프 자금 대출금리 속인 두은행 제재   \n",
       "\n",
       "                                          href_naver  \\\n",
       "0  http://news.naver.com/main/read.nhn?mode=LSD&m...   \n",
       "1  http://news.naver.com/main/read.nhn?mode=LSD&m...   \n",
       "2  http://news.naver.com/main/read.nhn?mode=LSD&m...   \n",
       "\n",
       "                                         href_origin actor        time press  \n",
       "0  http://news.naver.com/main/read.nhn?mode=LSD&m...   BoA  1990.07.07  연합뉴스  \n",
       "1  http://news.naver.com/main/read.nhn?mode=LSD&m...   BoA  1991.01.25  연합뉴스  \n",
       "2  http://news.naver.com/main/read.nhn?mode=LSD&m...   BoA  1991.12.09  연합뉴스  "
      ]
     },
     "execution_count": 5,
     "metadata": {},
     "output_type": "execute_result"
    }
   ],
   "source": [
    "print (frame.shape)\n",
    "frame.head(3)"
   ]
  },
  {
   "cell_type": "markdown",
   "metadata": {},
   "source": [
    "## load actors"
   ]
  },
  {
   "cell_type": "code",
   "execution_count": 24,
   "metadata": {
    "collapsed": true
   },
   "outputs": [],
   "source": [
    "actors = pd.read_csv('../data/actor_type.csv')"
   ]
  },
  {
   "cell_type": "code",
   "execution_count": 26,
   "metadata": {
    "collapsed": false
   },
   "outputs": [
    {
     "name": "stdout",
     "output_type": "stream",
     "text": [
      "(8, 2)\n"
     ]
    },
    {
     "data": {
      "text/html": [
       "<div>\n",
       "<table border=\"1\" class=\"dataframe\">\n",
       "  <thead>\n",
       "    <tr style=\"text-align: right;\">\n",
       "      <th></th>\n",
       "      <th>name</th>\n",
       "      <th>type</th>\n",
       "    </tr>\n",
       "  </thead>\n",
       "  <tbody>\n",
       "    <tr>\n",
       "      <th>0</th>\n",
       "      <td>김태희</td>\n",
       "      <td>배우</td>\n",
       "    </tr>\n",
       "    <tr>\n",
       "      <th>1</th>\n",
       "      <td>공유</td>\n",
       "      <td>배우</td>\n",
       "    </tr>\n",
       "    <tr>\n",
       "      <th>2</th>\n",
       "      <td>이병헌</td>\n",
       "      <td>배우</td>\n",
       "    </tr>\n",
       "  </tbody>\n",
       "</table>\n",
       "</div>"
      ],
      "text/plain": [
       "  name  type\n",
       "0  김태희    배우\n",
       "1   공유    배우\n",
       "2  이병헌    배우"
      ]
     },
     "execution_count": 26,
     "metadata": {},
     "output_type": "execute_result"
    }
   ],
   "source": [
    "print (actors.shape)\n",
    "actors.head(3)"
   ]
  },
  {
   "cell_type": "code",
   "execution_count": 15,
   "metadata": {
    "collapsed": true,
    "deletable": true,
    "editable": true
   },
   "outputs": [],
   "source": [
    "def get_article(number):\n",
    "    return frame.iloc[number].values"
   ]
  },
  {
   "cell_type": "code",
   "execution_count": 16,
   "metadata": {
    "collapsed": true,
    "deletable": true,
    "editable": true
   },
   "outputs": [],
   "source": [
    "def get_articles(actor):\n",
    "    return frame.loc[frame['actor'] == actor]"
   ]
  },
  {
   "cell_type": "markdown",
   "metadata": {},
   "source": [
    "## extract href_naver"
   ]
  },
  {
   "cell_type": "code",
   "execution_count": 61,
   "metadata": {
    "collapsed": false,
    "scrolled": true
   },
   "outputs": [
    {
     "name": "stderr",
     "output_type": "stream",
     "text": [
      "d:\\develop\\python\\python35\\lib\\site-packages\\ipykernel\\__main__.py:5: SettingWithCopyWarning: \n",
      "A value is trying to be set on a copy of a slice from a DataFrame\n",
      "\n",
      "See the caveats in the documentation: http://pandas.pydata.org/pandas-docs/stable/indexing.html#indexing-view-versus-copy\n"
     ]
    },
    {
     "name": "stdout",
     "output_type": "stream",
     "text": [
      "김태희  배우\n",
      "공유  배우\n",
      "이병헌  배우\n",
      "이혜리  가수\n",
      "아이유  가수\n",
      "유재석  개그맨\n",
      "정유라  공인\n",
      "박원순  정치인\n"
     ]
    }
   ],
   "source": [
    "frames = []\n",
    "for idx, actor in actors.iterrows():\n",
    "    actor, engage = actor.values[:2]\n",
    "    p = get_articles(actor)\n",
    "    p.loc['type'] = engage\n",
    "    frames.append(p)\n",
    "    print (actor, engage)\n",
    "docs = pd.concat(frames)"
   ]
  },
  {
   "cell_type": "code",
   "execution_count": 60,
   "metadata": {
    "collapsed": false
   },
   "outputs": [
    {
     "name": "stdout",
     "output_type": "stream",
     "text": [
      "(1554916, 7)\n"
     ]
    },
    {
     "data": {
      "text/html": [
       "<div>\n",
       "<table border=\"1\" class=\"dataframe\">\n",
       "  <thead>\n",
       "    <tr style=\"text-align: right;\">\n",
       "      <th></th>\n",
       "      <th>title</th>\n",
       "      <th>href_naver</th>\n",
       "      <th>href_origin</th>\n",
       "      <th>actor</th>\n",
       "      <th>time</th>\n",
       "      <th>press</th>\n",
       "      <th>type</th>\n",
       "    </tr>\n",
       "  </thead>\n",
       "  <tbody>\n",
       "    <tr>\n",
       "      <th>3294759</th>\n",
       "      <td>-제2회경희대총장기 고교태권도-</td>\n",
       "      <td>http://sports.news.naver.com/general/news/read...</td>\n",
       "      <td>http://sports.news.naver.com/general/news/read...</td>\n",
       "      <td>김태희</td>\n",
       "      <td>1990.07.04</td>\n",
       "      <td>연합뉴스</td>\n",
       "      <td>배우</td>\n",
       "    </tr>\n",
       "    <tr>\n",
       "      <th>3294760</th>\n",
       "      <td>91학년도 체육특기자(한체대)</td>\n",
       "      <td>http://sports.news.naver.com/general/news/read...</td>\n",
       "      <td>http://sports.news.naver.com/general/news/read...</td>\n",
       "      <td>김태희</td>\n",
       "      <td>1990.11.27</td>\n",
       "      <td>연합뉴스</td>\n",
       "      <td>배우</td>\n",
       "    </tr>\n",
       "    <tr>\n",
       "      <th>3294761</th>\n",
       "      <td>4월 미술전시 안내</td>\n",
       "      <td>http://news.naver.com/main/read.nhn?mode=LSD&amp;m...</td>\n",
       "      <td>http://news.naver.com/main/read.nhn?mode=LSD&amp;m...</td>\n",
       "      <td>김태희</td>\n",
       "      <td>1991.03.27</td>\n",
       "      <td>연합뉴스</td>\n",
       "      <td>배우</td>\n",
       "    </tr>\n",
       "  </tbody>\n",
       "</table>\n",
       "</div>"
      ],
      "text/plain": [
       "                     title                                         href_naver  \\\n",
       "3294759  -제2회경희대총장기 고교태권도-  http://sports.news.naver.com/general/news/read...   \n",
       "3294760   91학년도 체육특기자(한체대)  http://sports.news.naver.com/general/news/read...   \n",
       "3294761         4월 미술전시 안내  http://news.naver.com/main/read.nhn?mode=LSD&m...   \n",
       "\n",
       "                                               href_origin actor        time  \\\n",
       "3294759  http://sports.news.naver.com/general/news/read...   김태희  1990.07.04   \n",
       "3294760  http://sports.news.naver.com/general/news/read...   김태희  1990.11.27   \n",
       "3294761  http://news.naver.com/main/read.nhn?mode=LSD&m...   김태희  1991.03.27   \n",
       "\n",
       "        press type  \n",
       "3294759  연합뉴스   배우  \n",
       "3294760  연합뉴스   배우  \n",
       "3294761  연합뉴스   배우  "
      ]
     },
     "execution_count": 60,
     "metadata": {},
     "output_type": "execute_result"
    }
   ],
   "source": [
    "print (docs.shape)\n",
    "docs.head(3)"
   ]
  },
  {
   "cell_type": "code",
   "execution_count": 62,
   "metadata": {
    "collapsed": true
   },
   "outputs": [],
   "source": [
    "docs.to_csv('../data/actor_href.csv')"
   ]
  },
  {
   "cell_type": "markdown",
   "metadata": {},
   "source": [
    "## Test"
   ]
  },
  {
   "cell_type": "code",
   "execution_count": 17,
   "metadata": {
    "collapsed": false,
    "deletable": true,
    "editable": true,
    "scrolled": true
   },
   "outputs": [
    {
     "name": "stdout",
     "output_type": "stream",
     "text": [
      "['교통사고 2건 3명 사망'\n",
      " 'http://news.naver.com/main/read.nhn?mode=LSD&mid=shm&sid1=102&oid=001&aid=0003619379'\n",
      " 'http://news.naver.com/main/read.nhn?mode=LSD&mid=shm&sid1=102&oid=001&aid=0003619379'\n",
      " '박원순' '1992.10.31' '연합뉴스']\n"
     ]
    }
   ],
   "source": [
    "s = get_article(23381469)\n",
    "print (s)"
   ]
  },
  {
   "cell_type": "code",
   "execution_count": 18,
   "metadata": {
    "collapsed": false,
    "deletable": true,
    "editable": true
   },
   "outputs": [
    {
     "name": "stdout",
     "output_type": "stream",
     "text": [
      "(230038, 6)\n"
     ]
    },
    {
     "data": {
      "text/html": [
       "<div>\n",
       "<table border=\"1\" class=\"dataframe\">\n",
       "  <thead>\n",
       "    <tr style=\"text-align: right;\">\n",
       "      <th></th>\n",
       "      <th>title</th>\n",
       "      <th>href_naver</th>\n",
       "      <th>href_origin</th>\n",
       "      <th>actor</th>\n",
       "      <th>time</th>\n",
       "      <th>press</th>\n",
       "    </tr>\n",
       "  </thead>\n",
       "  <tbody>\n",
       "    <tr>\n",
       "      <th>23381469</th>\n",
       "      <td>교통사고 2건 3명 사망</td>\n",
       "      <td>http://news.naver.com/main/read.nhn?mode=LSD&amp;m...</td>\n",
       "      <td>http://news.naver.com/main/read.nhn?mode=LSD&amp;m...</td>\n",
       "      <td>박원순</td>\n",
       "      <td>1992.10.31</td>\n",
       "      <td>연합뉴스</td>\n",
       "    </tr>\n",
       "    <tr>\n",
       "      <th>23381470</th>\n",
       "      <td>\"국제센터나 국제인권침해재판소 세워야\"</td>\n",
       "      <td>http://news.naver.com/main/read.nhn?mode=LSD&amp;m...</td>\n",
       "      <td>http://news.naver.com/main/read.nhn?mode=LSD&amp;m...</td>\n",
       "      <td>박원순</td>\n",
       "      <td>1992.12.12</td>\n",
       "      <td>연합뉴스</td>\n",
       "    </tr>\n",
       "    <tr>\n",
       "      <th>23381471</th>\n",
       "      <td>유엔인권위 특별보좌관 반 보벤박사 방한</td>\n",
       "      <td>http://news.naver.com/main/read.nhn?mode=LSD&amp;m...</td>\n",
       "      <td>http://news.naver.com/main/read.nhn?mode=LSD&amp;m...</td>\n",
       "      <td>박원순</td>\n",
       "      <td>1992.12.05</td>\n",
       "      <td>연합뉴스</td>\n",
       "    </tr>\n",
       "  </tbody>\n",
       "</table>\n",
       "</div>"
      ],
      "text/plain": [
       "                          title  \\\n",
       "23381469          교통사고 2건 3명 사망   \n",
       "23381470  \"국제센터나 국제인권침해재판소 세워야\"   \n",
       "23381471  유엔인권위 특별보좌관 반 보벤박사 방한   \n",
       "\n",
       "                                                 href_naver  \\\n",
       "23381469  http://news.naver.com/main/read.nhn?mode=LSD&m...   \n",
       "23381470  http://news.naver.com/main/read.nhn?mode=LSD&m...   \n",
       "23381471  http://news.naver.com/main/read.nhn?mode=LSD&m...   \n",
       "\n",
       "                                                href_origin actor        time  \\\n",
       "23381469  http://news.naver.com/main/read.nhn?mode=LSD&m...   박원순  1992.10.31   \n",
       "23381470  http://news.naver.com/main/read.nhn?mode=LSD&m...   박원순  1992.12.12   \n",
       "23381471  http://news.naver.com/main/read.nhn?mode=LSD&m...   박원순  1992.12.05   \n",
       "\n",
       "         press  \n",
       "23381469  연합뉴스  \n",
       "23381470  연합뉴스  \n",
       "23381471  연합뉴스  "
      ]
     },
     "execution_count": 18,
     "metadata": {},
     "output_type": "execute_result"
    }
   ],
   "source": [
    "p = get_articles('박원순')\n",
    "print (p.shape)\n",
    "p.head(3)"
   ]
  },
  {
   "cell_type": "code",
   "execution_count": 23,
   "metadata": {
    "collapsed": false,
    "deletable": true,
    "editable": true
   },
   "outputs": [
    {
     "data": {
      "text/plain": [
       "array(['교통사고 2건 3명 사망',\n",
       "       'http://news.naver.com/main/read.nhn?mode=LSD&mid=shm&sid1=102&oid=001&aid=0003619379',\n",
       "       'http://news.naver.com/main/read.nhn?mode=LSD&mid=shm&sid1=102&oid=001&aid=0003619379',\n",
       "       '박원순', '1992.10.31', '연합뉴스'], dtype=object)"
      ]
     },
     "execution_count": 23,
     "metadata": {},
     "output_type": "execute_result"
    }
   ],
   "source": [
    "p.values[0]"
   ]
  },
  {
   "cell_type": "code",
   "execution_count": null,
   "metadata": {
    "collapsed": true
   },
   "outputs": [],
   "source": []
  }
 ],
 "metadata": {
  "kernelspec": {
   "display_name": "Python 3",
   "language": "python",
   "name": "python3"
  },
  "language_info": {
   "codemirror_mode": {
    "name": "ipython",
    "version": 3
   },
   "file_extension": ".py",
   "mimetype": "text/x-python",
   "name": "python",
   "nbconvert_exporter": "python",
   "pygments_lexer": "ipython3",
   "version": "3.5.2"
  }
 },
 "nbformat": 4,
 "nbformat_minor": 2
}
