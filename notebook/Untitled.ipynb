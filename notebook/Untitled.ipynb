{
 "cells": [
  {
   "cell_type": "code",
   "execution_count": 226,
   "metadata": {
    "collapsed": true,
    "deletable": true,
    "editable": true
   },
   "outputs": [],
   "source": [
    "from urllib.parse import unquote, quote\n",
    "from urllib.request import Request, urlopen, urlretrieve\n",
    "from bs4 import BeautifulSoup as bs"
   ]
  },
  {
   "cell_type": "code",
   "execution_count": 227,
   "metadata": {
    "collapsed": true,
    "deletable": true,
    "editable": true
   },
   "outputs": [],
   "source": [
    "import pandas as pd\n",
    "import pymysql\n",
    "import requests\n",
    "import re\n",
    "import json"
   ]
  },
  {
   "cell_type": "code",
   "execution_count": 228,
   "metadata": {
    "collapsed": true,
    "deletable": true,
    "editable": true
   },
   "outputs": [],
   "source": [
    "SERVER_RDB = '175.207.13.225'\n",
    "SERVER_PDB = '175.207.13.224'"
   ]
  },
  {
   "cell_type": "code",
   "execution_count": 229,
   "metadata": {
    "collapsed": true,
    "deletable": true,
    "editable": true
   },
   "outputs": [],
   "source": [
    "def get():\n",
    "    conn = pymysql.connect(host=SERVER_PDB,\n",
    "                           user='memento',\n",
    "                           password='memento@0x100_',\n",
    "                           db='memento',\n",
    "                           charset='utf8')\n",
    "    cur = conn.cursor()\n",
    "\n",
    "    columns = ['keyword', 'title', 'content', 'published_time', 'reply_count']\n",
    "\n",
    "    sql = \"SELECT id, nickname FROM entity\"\n",
    "\n",
    "    result = cur.execute(sql)\n",
    "    ret = list(cur)\n",
    "\n",
    "    cur.close()\n",
    "    conn.close()\n",
    "\n",
    "    return ret"
   ]
  },
  {
   "cell_type": "code",
   "execution_count": 230,
   "metadata": {
    "collapsed": true,
    "deletable": true,
    "editable": true
   },
   "outputs": [],
   "source": [
    "def push(id, link, w):\n",
    "    headers = {\n",
    "        \"Content-Type\" : \"application/json\",\n",
    "        \"charset\": \"utf-8\"\n",
    "    }\n",
    "    payload = {\n",
    "        \"type\": \"default\",\n",
    "        \"path\": link,\n",
    "        \"weight\": w\n",
    "      }\n",
    "    req = requests.post('http://175.207.13.224:8080/manage/api/persist/entities/%d/images' % id, json=[payload], headers=headers)\n",
    "    res = req.text"
   ]
  },
  {
   "cell_type": "code",
   "execution_count": 231,
   "metadata": {
    "collapsed": true,
    "deletable": true,
    "editable": true
   },
   "outputs": [],
   "source": [
    "header = {'User-Agent': 'Mozilla/4.0 (compatible; MSIE 7.0; Windows NT 6.0)',\n",
    "        'Connection': 'keep-alive'}\n",
    "def get_picture(query, size=1):\n",
    "    url = u'https://search.naver.com/search.naver?where=image&query=' + query\n",
    "    q = Request(quote(url.encode('utf-8'), '/:&?='))\n",
    "    soup = bs(urlopen(q).read(), 'lxml')\n",
    "    \n",
    "    for img in soup.findAll('img', {'class': '_img'})[:size]:\n",
    "        img_ref = img['data-source']\n",
    "        if img_ref:\n",
    "            yield img_ref"
   ]
  },
  {
   "cell_type": "code",
   "execution_count": 232,
   "metadata": {
    "collapsed": false,
    "deletable": true,
    "editable": true
   },
   "outputs": [],
   "source": [
    "for id, event in get():\n",
    "    for w, link in enumerate(get_picture(event, 5)):\n",
    "        push(id, link, 100 - w * 10)"
   ]
  },
  {
   "cell_type": "code",
   "execution_count": 233,
   "metadata": {
    "collapsed": false,
    "deletable": true,
    "editable": true
   },
   "outputs": [
    {
     "name": "stdout",
     "output_type": "stream",
     "text": [
      "done\n"
     ]
    }
   ],
   "source": [
    "print ('done')"
   ]
  },
  {
   "cell_type": "code",
   "execution_count": null,
   "metadata": {
    "collapsed": true,
    "deletable": true,
    "editable": true
   },
   "outputs": [],
   "source": []
  }
 ],
 "metadata": {
  "kernelspec": {
   "display_name": "Python 3",
   "language": "python",
   "name": "python3"
  },
  "language_info": {
   "codemirror_mode": {
    "name": "ipython",
    "version": 3
   },
   "file_extension": ".py",
   "mimetype": "text/x-python",
   "name": "python",
   "nbconvert_exporter": "python",
   "pygments_lexer": "ipython3",
   "version": "3.5.2"
  }
 },
 "nbformat": 4,
 "nbformat_minor": 2
}
