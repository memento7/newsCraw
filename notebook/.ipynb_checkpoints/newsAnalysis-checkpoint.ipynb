{
 "cells": [
  {
   "cell_type": "code",
   "execution_count": 1,
   "metadata": {
    "collapsed": true
   },
   "outputs": [],
   "source": [
    "from __future__ import absolute_import\n",
    "from __future__ import print_function\n",
    "from __future__ import division"
   ]
  },
  {
   "cell_type": "code",
   "execution_count": 2,
   "metadata": {
    "collapsed": true
   },
   "outputs": [],
   "source": [
    "import numpy as np\n",
    "import pandas as pd\n",
    "import tensorflow as tf\n",
    "import matplotlib.pyplot as plt\n",
    "import json\n",
    "import re\n",
    "import pickle"
   ]
  },
  {
   "cell_type": "code",
   "execution_count": 4,
   "metadata": {
    "collapsed": false
   },
   "outputs": [],
   "source": [
    "frame = pd.read_csv('../data/newsTitle.csv')"
   ]
  },
  {
   "cell_type": "markdown",
   "metadata": {},
   "source": [
    "## save pickle "
   ]
  },
  {
   "cell_type": "code",
   "execution_count": 5,
   "metadata": {
    "collapsed": true
   },
   "outputs": [],
   "source": [
    "f = open('../data/newsTitle.pick', 'wb')\n",
    "pickle.dump(frame, f)\n",
    "f.close()"
   ]
  },
  {
   "cell_type": "markdown",
   "metadata": {},
   "source": [
    "## load pickle"
   ]
  },
  {
   "cell_type": "code",
   "execution_count": null,
   "metadata": {
    "collapsed": true
   },
   "outputs": [],
   "source": [
    "f = open('../data/newsTitle.pick', 'rb')\n",
    "frame = pickle.load(f)\n",
    "f.close()"
   ]
  },
  {
   "cell_type": "code",
   "execution_count": 37,
   "metadata": {
    "collapsed": false
   },
   "outputs": [
    {
     "name": "stdout",
     "output_type": "stream",
     "text": [
      "(13535309, 6)\n"
     ]
    },
    {
     "data": {
      "text/html": [
       "<div>\n",
       "<table border=\"1\" class=\"dataframe\">\n",
       "  <thead>\n",
       "    <tr style=\"text-align: right;\">\n",
       "      <th></th>\n",
       "      <th>href_origin</th>\n",
       "      <th>href_naver</th>\n",
       "      <th>actor</th>\n",
       "      <th>time</th>\n",
       "      <th>press</th>\n",
       "      <th>title</th>\n",
       "    </tr>\n",
       "  </thead>\n",
       "  <tbody>\n",
       "    <tr>\n",
       "      <th>0</th>\n",
       "      <td>http://www.newstown.co.kr/newsbuilder/service/...</td>\n",
       "      <td>NaN</td>\n",
       "      <td>BeBe Mignon</td>\n",
       "      <td>2010.06.30</td>\n",
       "      <td>뉴스타운</td>\n",
       "      <td>포맨 '고해요' 나쁜남자 OST 공개</td>\n",
       "    </tr>\n",
       "    <tr>\n",
       "      <th>1</th>\n",
       "      <td>http://biz.heraldm.com/common/redirect.jsp?cat...</td>\n",
       "      <td>http://news.naver.com/main/read.nhn?mode=LSD&amp;m...</td>\n",
       "      <td>BeBe Mignon</td>\n",
       "      <td>2011.02.21</td>\n",
       "      <td>헤럴드경제</td>\n",
       "      <td>난로처럼 따뜻한 멜로디</td>\n",
       "    </tr>\n",
       "    <tr>\n",
       "      <th>2</th>\n",
       "      <td>http://www.newsen.com/news_view.php?uid=201009...</td>\n",
       "      <td>http://news.naver.com/main/read.nhn?mode=LSD&amp;m...</td>\n",
       "      <td>BeBe Mignon</td>\n",
       "      <td>2010.09.08</td>\n",
       "      <td>뉴스엔</td>\n",
       "      <td>바이브 윤민수, 소니뮤직과 손잡고 3인조 女보컬그룹 공개</td>\n",
       "    </tr>\n",
       "  </tbody>\n",
       "</table>\n",
       "</div>"
      ],
      "text/plain": [
       "                                         href_origin  \\\n",
       "0  http://www.newstown.co.kr/newsbuilder/service/...   \n",
       "1  http://biz.heraldm.com/common/redirect.jsp?cat...   \n",
       "2  http://www.newsen.com/news_view.php?uid=201009...   \n",
       "\n",
       "                                          href_naver        actor        time  \\\n",
       "0                                                NaN  BeBe Mignon  2010.06.30   \n",
       "1  http://news.naver.com/main/read.nhn?mode=LSD&m...  BeBe Mignon  2011.02.21   \n",
       "2  http://news.naver.com/main/read.nhn?mode=LSD&m...  BeBe Mignon  2010.09.08   \n",
       "\n",
       "   press                            title  \n",
       "0   뉴스타운             포맨 '고해요' 나쁜남자 OST 공개  \n",
       "1  헤럴드경제                     난로처럼 따뜻한 멜로디  \n",
       "2    뉴스엔  바이브 윤민수, 소니뮤직과 손잡고 3인조 女보컬그룹 공개  "
      ]
     },
     "execution_count": 37,
     "metadata": {},
     "output_type": "execute_result"
    }
   ],
   "source": [
    "print (frame.shape)\n",
    "frame.head(3)"
   ]
  },
  {
   "cell_type": "code",
   "execution_count": 39,
   "metadata": {
    "collapsed": true
   },
   "outputs": [],
   "source": [
    "def get_article(number):\n",
    "    return frame.iloc[number]"
   ]
  },
  {
   "cell_type": "code",
   "execution_count": 18,
   "metadata": {
    "collapsed": true
   },
   "outputs": [],
   "source": [
    "def get_articles(actor):\n",
    "    return frame.loc[frame['actor'] == actor]"
   ]
  },
  {
   "cell_type": "code",
   "execution_count": 47,
   "metadata": {
    "collapsed": false
   },
   "outputs": [
    {
     "name": "stdout",
     "output_type": "stream",
     "text": [
      "http://news.naver.com/main/read.nhn?mode=LSD&mid=shm&sid1=103&oid=028&aid=0002083502\n"
     ]
    }
   ],
   "source": [
    "s = get_article(90692)\n",
    "print (s.values[1])"
   ]
  },
  {
   "cell_type": "code",
   "execution_count": 38,
   "metadata": {
    "collapsed": false
   },
   "outputs": [
    {
     "name": "stdout",
     "output_type": "stream",
     "text": [
      "(9, 6)\n"
     ]
    },
    {
     "data": {
      "text/html": [
       "<div>\n",
       "<table border=\"1\" class=\"dataframe\">\n",
       "  <thead>\n",
       "    <tr style=\"text-align: right;\">\n",
       "      <th></th>\n",
       "      <th>href_origin</th>\n",
       "      <th>href_naver</th>\n",
       "      <th>actor</th>\n",
       "      <th>time</th>\n",
       "      <th>press</th>\n",
       "      <th>title</th>\n",
       "    </tr>\n",
       "  </thead>\n",
       "  <tbody>\n",
       "    <tr>\n",
       "      <th>90692</th>\n",
       "      <td>http://kkini.hani.co.kr/7541</td>\n",
       "      <td>http://news.naver.com/main/read.nhn?mode=LSD&amp;m...</td>\n",
       "      <td>강예빈</td>\n",
       "      <td>2011.03.03</td>\n",
       "      <td>한겨레</td>\n",
       "      <td>[?좎풄???앺긽] 異섏궪?붿뿏 ?쒕늻?섃&amp;amp;#0;?쇰뜕 洹몄? ?섍여 癒밴퀬...</td>\n",
       "    </tr>\n",
       "    <tr>\n",
       "      <th>90693</th>\n",
       "      <td>http://news.naver.com/main/read.nhn?mode=LSD&amp;m...</td>\n",
       "      <td>http://news.naver.com/main/read.nhn?mode=LSD&amp;m...</td>\n",
       "      <td>강예빈</td>\n",
       "      <td>2012.04.02</td>\n",
       "      <td>연합뉴스</td>\n",
       "      <td>비정규직 여성노동자들과 대화하는 한명숙 대표,</td>\n",
       "    </tr>\n",
       "    <tr>\n",
       "      <th>90694</th>\n",
       "      <td>http://news.naver.com/main/read.nhn?mode=LSD&amp;m...</td>\n",
       "      <td>http://news.naver.com/main/read.nhn?mode=LSD&amp;m...</td>\n",
       "      <td>강예빈</td>\n",
       "      <td>2012.04.02</td>\n",
       "      <td>연합뉴스</td>\n",
       "      <td>비정규직 여성노동자들과 대화하는 한명숙 대표,</td>\n",
       "    </tr>\n",
       "    <tr>\n",
       "      <th>90695</th>\n",
       "      <td>http://www.nocutnews.co.kr/Show.asp?IDX=2612971</td>\n",
       "      <td>http://sports.news.naver.com/general/news/read...</td>\n",
       "      <td>강예빈</td>\n",
       "      <td>2013.09.11</td>\n",
       "      <td>노컷뉴스</td>\n",
       "      <td>'도움제조기' 몰리나 “K리그서 할 일 아직 많다”</td>\n",
       "    </tr>\n",
       "    <tr>\n",
       "      <th>90696</th>\n",
       "      <td>http://ecotopia.hani.co.kr/197473</td>\n",
       "      <td>http://news.naver.com/main/read.nhn?mode=LSD&amp;m...</td>\n",
       "      <td>강예빈</td>\n",
       "      <td>2014.06.30</td>\n",
       "      <td>한겨레</td>\n",
       "      <td>[??野껋럥?  ?? 域??? ??   ?疫?????, 燁삘뫂?  ?????  눧 챸??</td>\n",
       "    </tr>\n",
       "    <tr>\n",
       "      <th>90697</th>\n",
       "      <td>http://news.mtn.co.kr/newscenter/news_viewer.m...</td>\n",
       "      <td>NaN</td>\n",
       "      <td>강예빈</td>\n",
       "      <td>2016.11.28</td>\n",
       "      <td>MTN</td>\n",
       "      <td>�댁�� 諛깊�������� 而щ�� �</td>\n",
       "    </tr>\n",
       "    <tr>\n",
       "      <th>90698</th>\n",
       "      <td>http://news.mtn.co.kr/newscenter/news_viewer.m...</td>\n",
       "      <td>NaN</td>\n",
       "      <td>강예빈</td>\n",
       "      <td>2016.11.15</td>\n",
       "      <td>MTN</td>\n",
       "      <td>援ъ���� �ㅽ���щ���� �곌뎄�</td>\n",
       "    </tr>\n",
       "    <tr>\n",
       "      <th>90699</th>\n",
       "      <td>http://news.mtn.co.kr/newscenter/news_viewer.m...</td>\n",
       "      <td>NaN</td>\n",
       "      <td>강예빈</td>\n",
       "      <td>2016.11.07</td>\n",
       "      <td>MTN</td>\n",
       "      <td>[湲�濡�踰� ����] ����, 獰� �</td>\n",
       "    </tr>\n",
       "    <tr>\n",
       "      <th>90700</th>\n",
       "      <td>http://news.mtn.co.kr/newscenter/news_viewer.m...</td>\n",
       "      <td>NaN</td>\n",
       "      <td>강예빈</td>\n",
       "      <td>2017.01.12</td>\n",
       "      <td>MTN</td>\n",
       "      <td>議곗���� ���몃�� 蹂닿굔�����</td>\n",
       "    </tr>\n",
       "  </tbody>\n",
       "</table>\n",
       "</div>"
      ],
      "text/plain": [
       "                                             href_origin  \\\n",
       "90692                       http://kkini.hani.co.kr/7541   \n",
       "90693  http://news.naver.com/main/read.nhn?mode=LSD&m...   \n",
       "90694  http://news.naver.com/main/read.nhn?mode=LSD&m...   \n",
       "90695    http://www.nocutnews.co.kr/Show.asp?IDX=2612971   \n",
       "90696                  http://ecotopia.hani.co.kr/197473   \n",
       "90697  http://news.mtn.co.kr/newscenter/news_viewer.m...   \n",
       "90698  http://news.mtn.co.kr/newscenter/news_viewer.m...   \n",
       "90699  http://news.mtn.co.kr/newscenter/news_viewer.m...   \n",
       "90700  http://news.mtn.co.kr/newscenter/news_viewer.m...   \n",
       "\n",
       "                                              href_naver actor        time  \\\n",
       "90692  http://news.naver.com/main/read.nhn?mode=LSD&m...   강예빈  2011.03.03   \n",
       "90693  http://news.naver.com/main/read.nhn?mode=LSD&m...   강예빈  2012.04.02   \n",
       "90694  http://news.naver.com/main/read.nhn?mode=LSD&m...   강예빈  2012.04.02   \n",
       "90695  http://sports.news.naver.com/general/news/read...   강예빈  2013.09.11   \n",
       "90696  http://news.naver.com/main/read.nhn?mode=LSD&m...   강예빈  2014.06.30   \n",
       "90697                                                NaN   강예빈  2016.11.28   \n",
       "90698                                                NaN   강예빈  2016.11.15   \n",
       "90699                                                NaN   강예빈  2016.11.07   \n",
       "90700                                                NaN   강예빈  2017.01.12   \n",
       "\n",
       "      press                                              title  \n",
       "90692   한겨레  [?좎풄???앺긽] 異섏궪?붿뿏 ?쒕늻?섃&amp;#0;?쇰뜕 洹몄? ?섍여 癒밴퀬...  \n",
       "90693  연합뉴스                          비정규직 여성노동자들과 대화하는 한명숙 대표,  \n",
       "90694  연합뉴스                          비정규직 여성노동자들과 대화하는 한명숙 대표,  \n",
       "90695  노컷뉴스                       '도움제조기' 몰리나 “K리그서 할 일 아직 많다”  \n",
       "90696   한겨레  [??野껋럥?  ?? 域??? ??   ?疫?????, 燁삘뫂?  ?????  눧 챸??  \n",
       "90697   MTN                             �댁�� 諛깊�������� 而щ�� �  \n",
       "90698   MTN                             援ъ���� �ㅽ���щ���� �곌뎄�  \n",
       "90699   MTN                           [湲�濡�踰� ����] ����, 獰� �  \n",
       "90700   MTN                             議곗���� ���몃�� 蹂닿굔�����  "
      ]
     },
     "execution_count": 38,
     "metadata": {},
     "output_type": "execute_result"
    }
   ],
   "source": [
    "p = get_articles('강예빈')\n",
    "print (p.shape)\n",
    "p.head(10)"
   ]
  },
  {
   "cell_type": "code",
   "execution_count": null,
   "metadata": {
    "collapsed": true
   },
   "outputs": [],
   "source": []
  }
 ],
 "metadata": {
  "kernelspec": {
   "display_name": "Python 3",
   "language": "python",
   "name": "python3"
  },
  "language_info": {
   "codemirror_mode": {
    "name": "ipython",
    "version": 3
   },
   "file_extension": ".py",
   "mimetype": "text/x-python",
   "name": "python",
   "nbconvert_exporter": "python",
   "pygments_lexer": "ipython3",
   "version": "3.5.2"
  }
 },
 "nbformat": 4,
 "nbformat_minor": 2
}
